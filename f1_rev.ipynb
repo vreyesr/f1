{
 "cells": [
  {
   "cell_type": "code",
   "execution_count": 4,
   "id": "initial_id",
   "metadata": {
    "is_executing": true
   },
   "outputs": [
    {
     "ename": "ModuleNotFoundError",
     "evalue": "No module named 'fastf1'",
     "output_type": "error",
     "traceback": [
      "\u001b[0;31m---------------------------------------------------------------------------\u001b[0m",
      "\u001b[0;31mModuleNotFoundError\u001b[0m                       Traceback (most recent call last)",
      "Cell \u001b[0;32mIn[4], line 1\u001b[0m\n\u001b[0;32m----> 1\u001b[0m \u001b[38;5;28;01mimport\u001b[39;00m \u001b[38;5;21;01mfastf1\u001b[39;00m\n\u001b[1;32m      2\u001b[0m \u001b[38;5;28;01mimport\u001b[39;00m \u001b[38;5;21;01mfastf1\u001b[39;00m\u001b[38;5;21;01m.\u001b[39;00m\u001b[38;5;21;01mplotting\u001b[39;00m\n\u001b[1;32m      3\u001b[0m \u001b[38;5;28;01mfrom\u001b[39;00m \u001b[38;5;21;01mfastf1\u001b[39;00m\u001b[38;5;21;01m.\u001b[39;00m\u001b[38;5;21;01mcore\u001b[39;00m \u001b[38;5;28;01mimport\u001b[39;00m Laps\n",
      "\u001b[0;31mModuleNotFoundError\u001b[0m: No module named 'fastf1'"
     ]
    }
   ],
   "source": [
    "import fastf1\n",
    "import fastf1.plotting\n",
    "from fastf1.core import Laps"
   ]
  },
  {
   "cell_type": "code",
   "execution_count": 2,
   "id": "1cc16ccd897e86eb",
   "metadata": {
    "ExecuteTime": {
     "end_time": "2023-11-02T23:48:08.985172354Z",
     "start_time": "2023-11-02T23:48:08.728975057Z"
    },
    "collapsed": false,
    "jupyter": {
     "outputs_hidden": false
    }
   },
   "outputs": [
    {
     "name": "stdout",
     "output_type": "stream",
     "text": [
      "Defaulting to user installation because normal site-packages is not writeable\n",
      "Collecting fastf1\n",
      "  Downloading fastf1-3.1.6-py3-none-any.whl (122 kB)\n",
      "\u001b[K     |████████████████████████████████| 122 kB 1.1 MB/s eta 0:00:01\n",
      "\u001b[?25hCollecting timple>=0.1.6\n",
      "  Downloading timple-0.1.7-py3-none-any.whl (17 kB)\n",
      "Collecting scipy<2.0.0,>=1.6.3\n",
      "  Downloading scipy-1.11.4-cp39-cp39-manylinux_2_17_x86_64.manylinux2014_x86_64.whl (36.6 MB)\n",
      "\u001b[K     |████████████████████████████████| 36.6 MB 138 kB/s eta 0:00:01     |█████████████████▏              | 19.6 MB 5.5 MB/s eta 0:00:04     |██████████████████████████▉     | 30.7 MB 4.9 MB/s eta 0:00:02     |███████████████████████████████▏| 35.7 MB 4.9 MB/s eta 0:00:01\n",
      "\u001b[?25hCollecting requests-cache>=0.8.0\n",
      "  Downloading requests_cache-1.1.1-py3-none-any.whl (60 kB)\n",
      "\u001b[K     |████████████████████████████████| 60 kB 3.1 MB/s eta 0:00:011\n",
      "\u001b[?25hCollecting pandas<2.1.0,>=1.2.4\n",
      "  Downloading pandas-2.0.3-cp39-cp39-manylinux_2_17_x86_64.manylinux2014_x86_64.whl (12.4 MB)\n",
      "\u001b[K     |████████████████████████████████| 12.4 MB 3.4 MB/s eta 0:00:01    |██████████████▋                 | 5.6 MB 3.9 MB/s eta 0:00:02     |███████████████▋                | 6.1 MB 3.9 MB/s eta 0:00:02\n",
      "\u001b[?25hCollecting matplotlib<4.0.0,>=3.4.2\n",
      "  Downloading matplotlib-3.8.2-cp39-cp39-manylinux_2_17_x86_64.manylinux2014_x86_64.whl (11.6 MB)\n",
      "\u001b[K     |████████████████████████████████| 11.6 MB 3.9 MB/s eta 0:00:01    |█████████████████████████▍      | 9.2 MB 3.9 MB/s eta 0:00:01\n",
      "\u001b[?25hCollecting thefuzz\n",
      "  Downloading thefuzz-0.20.0-py3-none-any.whl (15 kB)\n",
      "Collecting numpy<2.0.0,>=1.20.3\n",
      "  Downloading numpy-1.26.2-cp39-cp39-manylinux_2_17_x86_64.manylinux2014_x86_64.whl (18.2 MB)\n",
      "\u001b[K     |████████████████████████████████| 18.2 MB 3.4 MB/s eta 0:00:01    |███▎                            | 1.9 MB 4.4 MB/s eta 0:00:04     |█████████                       | 5.2 MB 2.7 MB/s eta 0:00:05     |████████████████████▊           | 11.8 MB 3.2 MB/s eta 0:00:03\n",
      "\u001b[?25hCollecting websockets>=8.1\n",
      "  Downloading websockets-12.0-cp39-cp39-manylinux_2_5_x86_64.manylinux1_x86_64.manylinux_2_17_x86_64.manylinux2014_x86_64.whl (130 kB)\n",
      "\u001b[K     |████████████████████████████████| 130 kB 6.2 MB/s eta 0:00:01\n",
      "\u001b[?25hRequirement already satisfied: requests>=2.28.0 in /usr/local/lib/python3.9/site-packages (from fastf1) (2.31.0)\n",
      "Requirement already satisfied: python-dateutil in /usr/local/lib/python3.9/site-packages (from fastf1) (2.8.2)\n",
      "Collecting cycler>=0.10\n",
      "  Downloading cycler-0.12.1-py3-none-any.whl (8.3 kB)\n",
      "Collecting fonttools>=4.22.0\n",
      "  Downloading fonttools-4.45.1-cp39-cp39-manylinux_2_17_x86_64.manylinux2014_x86_64.whl (4.6 MB)\n",
      "\u001b[K     |████████████████████████████████| 4.6 MB 6.3 MB/s eta 0:00:01\n",
      "\u001b[?25hRequirement already satisfied: packaging>=20.0 in /usr/local/lib/python3.9/site-packages (from matplotlib<4.0.0,>=3.4.2->fastf1) (23.2)\n",
      "Requirement already satisfied: pyparsing>=2.3.1 in /usr/lib/python3.9/site-packages (from matplotlib<4.0.0,>=3.4.2->fastf1) (2.4.7)\n",
      "Collecting kiwisolver>=1.3.1\n",
      "  Downloading kiwisolver-1.4.5-cp39-cp39-manylinux_2_12_x86_64.manylinux2010_x86_64.whl (1.6 MB)\n",
      "\u001b[K     |████████████████████████████████| 1.6 MB 6.2 MB/s eta 0:00:01     |█████████▏                      | 460 kB 6.2 MB/s eta 0:00:01\n",
      "\u001b[?25hCollecting importlib-resources>=3.2.0\n",
      "  Downloading importlib_resources-6.1.1-py3-none-any.whl (33 kB)\n",
      "Collecting contourpy>=1.0.1\n",
      "  Downloading contourpy-1.2.0-cp39-cp39-manylinux_2_17_x86_64.manylinux2014_x86_64.whl (310 kB)\n",
      "\u001b[K     |████████████████████████████████| 310 kB 6.9 MB/s eta 0:00:01\n",
      "\u001b[?25hCollecting pillow>=8\n",
      "  Downloading Pillow-10.1.0-cp39-cp39-manylinux_2_28_x86_64.whl (3.6 MB)\n",
      "\u001b[K     |████████████████████████████████| 3.6 MB 7.3 MB/s eta 0:00:01     |████████████████▏               | 1.8 MB 7.3 MB/s eta 0:00:01\n",
      "\u001b[?25hRequirement already satisfied: zipp>=3.1.0 in /usr/local/lib/python3.9/site-packages (from importlib-resources>=3.2.0->matplotlib<4.0.0,>=3.4.2->fastf1) (3.17.0)\n",
      "Collecting tzdata>=2022.1\n",
      "  Downloading tzdata-2023.3-py2.py3-none-any.whl (341 kB)\n",
      "\u001b[K     |████████████████████████████████| 341 kB 9.4 MB/s eta 0:00:01\n",
      "\u001b[?25hCollecting pytz>=2020.1\n",
      "  Downloading pytz-2023.3.post1-py2.py3-none-any.whl (502 kB)\n",
      "\u001b[K     |████████████████████████████████| 502 kB 7.4 MB/s eta 0:00:01\n",
      "\u001b[?25hRequirement already satisfied: six>=1.5 in /usr/lib/python3.9/site-packages (from python-dateutil->fastf1) (1.15.0)\n",
      "Requirement already satisfied: urllib3<3,>=1.21.1 in /usr/lib/python3.9/site-packages (from requests>=2.28.0->fastf1) (1.26.5)\n",
      "Requirement already satisfied: charset-normalizer<4,>=2 in /usr/local/lib64/python3.9/site-packages (from requests>=2.28.0->fastf1) (3.3.2)\n",
      "Requirement already satisfied: idna<4,>=2.5 in /usr/lib/python3.9/site-packages (from requests>=2.28.0->fastf1) (2.10)\n",
      "Requirement already satisfied: certifi>=2017.4.17 in /usr/local/lib/python3.9/site-packages (from requests>=2.28.0->fastf1) (2023.11.17)\n",
      "Requirement already satisfied: platformdirs>=2.5 in /usr/local/lib/python3.9/site-packages (from requests-cache>=0.8.0->fastf1) (4.0.0)\n",
      "Requirement already satisfied: attrs>=21.2 in /usr/local/lib/python3.9/site-packages (from requests-cache>=0.8.0->fastf1) (23.1.0)\n",
      "Collecting cattrs>=22.2\n",
      "  Downloading cattrs-23.2.2-py3-none-any.whl (57 kB)\n",
      "\u001b[K     |████████████████████████████████| 57 kB 4.3 MB/s  eta 0:00:01\n",
      "\u001b[?25hCollecting url-normalize>=1.4\n",
      "  Downloading url_normalize-1.4.3-py2.py3-none-any.whl (6.8 kB)\n",
      "Requirement already satisfied: exceptiongroup>=1.1.1 in /usr/local/lib/python3.9/site-packages (from cattrs>=22.2->requests-cache>=0.8.0->fastf1) (1.2.0)\n",
      "Requirement already satisfied: typing-extensions!=4.6.3,>=4.1.0 in /usr/local/lib/python3.9/site-packages (from cattrs>=22.2->requests-cache>=0.8.0->fastf1) (4.8.0)\n",
      "Collecting rapidfuzz<4.0.0,>=3.0.0\n",
      "  Downloading rapidfuzz-3.5.2-cp39-cp39-manylinux_2_17_x86_64.manylinux2014_x86_64.whl (3.3 MB)\n",
      "\u001b[K     |████████████████████████████████| 3.3 MB 27.3 MB/s eta 0:00:01\n",
      "\u001b[?25hInstalling collected packages: numpy, pillow, kiwisolver, importlib-resources, fonttools, cycler, contourpy, url-normalize, tzdata, rapidfuzz, pytz, matplotlib, cattrs, websockets, timple, thefuzz, scipy, requests-cache, pandas, fastf1\n",
      "\u001b[33m  WARNING: Value for scheme.platlib does not match. Please report this to <https://github.com/pypa/pip/issues/10151>\n",
      "  distutils: /home/vreyesr/.local/lib/python3.9/site-packages\n",
      "  sysconfig: /home/vreyesr/.local/lib64/python3.9/site-packages\u001b[0m\n",
      "\u001b[33m  WARNING: Additional context:\n",
      "  user = True\n",
      "  home = None\n",
      "  root = None\n",
      "  prefix = None\u001b[0m\n",
      "Successfully installed cattrs-23.2.2 contourpy-1.2.0 cycler-0.12.1 fastf1-3.1.6 fonttools-4.45.1 importlib-resources-6.1.1 kiwisolver-1.4.5 matplotlib-3.8.2 numpy-1.26.2 pandas-2.0.3 pillow-10.1.0 pytz-2023.3.post1 rapidfuzz-3.5.2 requests-cache-1.1.1 scipy-1.11.4 thefuzz-0.20.0 timple-0.1.7 tzdata-2023.3 url-normalize-1.4.3 websockets-12.0\n"
     ]
    }
   ],
   "source": []
  },
  {
   "cell_type": "code",
   "execution_count": null,
   "id": "b742fed11c070895",
   "metadata": {
    "collapsed": false,
    "jupyter": {
     "outputs_hidden": false
    }
   },
   "outputs": [],
   "source": []
  }
 ],
 "metadata": {
  "kernelspec": {
   "display_name": "Python 3 (ipykernel)",
   "language": "python",
   "name": "python3"
  },
  "language_info": {
   "codemirror_mode": {
    "name": "ipython",
    "version": 3
   },
   "file_extension": ".py",
   "mimetype": "text/x-python",
   "name": "python",
   "nbconvert_exporter": "python",
   "pygments_lexer": "ipython3",
   "version": "3.9.18"
  }
 },
 "nbformat": 4,
 "nbformat_minor": 5
}
